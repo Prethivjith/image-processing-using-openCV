{
 "metadata": {
  "language_info": {
   "codemirror_mode": {
    "name": "ipython",
    "version": 3
   },
   "file_extension": ".py",
   "mimetype": "text/x-python",
   "name": "python",
   "nbconvert_exporter": "python",
   "pygments_lexer": "ipython3",
   "version": "3.8.5-final"
  },
  "orig_nbformat": 2,
  "kernelspec": {
   "name": "python3",
   "display_name": "Python 3",
   "language": "python"
  }
 },
 "nbformat": 4,
 "nbformat_minor": 2,
 "cells": [
  {
   "cell_type": "code",
   "execution_count": 6,
   "metadata": {},
   "outputs": [
    {
     "output_type": "stream",
     "name": "stdout",
     "text": [
      "look at the cam for data extraction\n",
      "exiting progrm and cleaning memry\n"
     ]
    }
   ],
   "source": [
    "import cv2\n",
    "import os\n",
    "\n",
    "cap=cv2.VideoCapture(0)\n",
    "cascpath=r'C:\\Users\\lonewolf\\hello_ds\\.vscode\\haarcascade_frontalface_default.xml'\n",
    "facecasc=cv2.CascadeClassifier(cascpath)\n",
    "faceid=input('enter user id')\n",
    "print('look at the cam for data extraction')\n",
    "\n",
    "count=0\n",
    "while True:\n",
    "    _,image=cap.read()\n",
    "    gray=cv2.cvtColor(image,cv2.COLOR_BGR2GRAY)\n",
    "    faces=facecasc.detectMultiScale(gray,1.2,5)\n",
    "    for (x,y,w,h) in faces:\n",
    "        cv2.rectangle(image,(x,y),(x+w,y+h),(255,255,255),2)\n",
    "        count+=1\n",
    "        cv2.imwrite(r'C:\\Users\\lonewolf\\hello_ds\\.vscode\\faceRecProject\\dataset\\user.'+str(faceid)+'.'+str(count)+'.jpg',gray[y:y+h,x:x+w])     #collect images in form user.id(numbers).count(0toN, i used 20)\n",
    "    cv2.imshow('image',image)\n",
    "    k=cv2.waitKey(30) & 0xff\n",
    "    if count>=20:\n",
    "            break\n",
    "    elif (k==27):   #27 is the AscII value of 'ESC' key\n",
    "            break\n",
    "print('exiting progrm and cleaning memry')\n",
    "cap.release()\n",
    "cv2.destroyAllWindows()"
   ]
  },
  {
   "cell_type": "code",
   "execution_count": null,
   "metadata": {},
   "outputs": [],
   "source": []
  }
 ]
}