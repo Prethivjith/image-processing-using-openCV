{
 "metadata": {
  "language_info": {
   "codemirror_mode": {
    "name": "ipython",
    "version": 3
   },
   "file_extension": ".py",
   "mimetype": "text/x-python",
   "name": "python",
   "nbconvert_exporter": "python",
   "pygments_lexer": "ipython3",
   "version": "3.8.5-final"
  },
  "orig_nbformat": 2,
  "kernelspec": {
   "name": "python3",
   "display_name": "Python 3",
   "language": "python"
  }
 },
 "nbformat": 4,
 "nbformat_minor": 2,
 "cells": [
  {
   "cell_type": "code",
   "execution_count": 2,
   "metadata": {},
   "outputs": [
    {
     "output_type": "stream",
     "name": "stdout",
     "text": [
      "cleaning memory and exiting\n"
     ]
    }
   ],
   "source": [
    "import cv2\n",
    "import numpy as np\n",
    "import os\n",
    "\n",
    "recognizer=cv2.face.LBPHFaceRecognizer_create()\n",
    "recognizer.read(r'C:\\Users\\lonewolf\\hello_ds\\.vscode\\faceRecProject\\trainer\\trainer.yml')\n",
    "cascpath=r'C:\\Users\\lonewolf\\hello_ds\\.vscode\\haarcascade_frontalface_default.xml'\n",
    "facecasc=cv2.CascadeClassifier(cascpath)\n",
    "font=cv2.FONT_HERSHEY_PLAIN\n",
    "\n",
    "id=0\n",
    "names=['none','ghosty','smiley','calm','scary','angry','happy']\n",
    "\n",
    "cam=cv2.VideoCapture(0)\n",
    "minW=0.1*cam.get(3)\n",
    "minH=0.1*cam.get(4)\n",
    "\n",
    "while True:\n",
    "    _,img=cam.read()\n",
    "    gray=cv2.cvtColor(img,cv2.COLOR_BGR2GRAY)\n",
    "    faces=facecasc.detectMultiScale(gray,scaleFactor=1.2,minNeighbors=5,minSize=(int(minW),int(minH)),)\n",
    "    for(x,y,w,h) in faces:\n",
    "        cv2.rectangle(img,(x,y),(x+w,y+h),(0,255,0),2)\n",
    "        id,confidence= recognizer.predict(gray[y:y+h,x:x+w])\n",
    "\n",
    "        if (confidence<100):\n",
    "            id=names[id]\n",
    "            confidence='{0}%'.format(round(100-confidence))\n",
    "        else:\n",
    "            id='unknown'\n",
    "            confidence='{0}%'.format(round(100-confidence))\n",
    "        cv2.putText(img,str(id),(x+5,y-5),cv2.FONT_HERSHEY_PLAIN,1,(255,0,255),2)\n",
    "        cv2.putText(img,str(confidence),(x+5,y+h-5),cv2.FONT_HERSHEY_PLAIN,1,(255,255,255),2)\n",
    "    cv2.imshow('camera',img)\n",
    "    k=cv2.waitKey(10)& 0xff\n",
    "    if k==27:\n",
    "        break\n",
    "print('cleaning memory and exiting')\n",
    "cam.release()\n",
    "cv2.destroyAllWindows()"
   ]
  }
 ]
}