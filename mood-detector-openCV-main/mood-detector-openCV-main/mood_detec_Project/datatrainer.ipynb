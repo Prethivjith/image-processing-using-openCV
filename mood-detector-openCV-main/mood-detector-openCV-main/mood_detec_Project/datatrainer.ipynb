{
 "metadata": {
  "language_info": {
   "codemirror_mode": {
    "name": "ipython",
    "version": 3
   },
   "file_extension": ".py",
   "mimetype": "text/x-python",
   "name": "python",
   "nbconvert_exporter": "python",
   "pygments_lexer": "ipython3",
   "version": "3.8.5-final"
  },
  "orig_nbformat": 2,
  "kernelspec": {
   "name": "python3",
   "display_name": "Python 3",
   "language": "python"
  }
 },
 "nbformat": 4,
 "nbformat_minor": 2,
 "cells": [
  {
   "cell_type": "code",
   "execution_count": 6,
   "metadata": {},
   "outputs": [
    {
     "output_type": "stream",
     "name": "stdout",
     "text": [
      "training faces,wait\n",
      "6 faces trained\n"
     ]
    }
   ],
   "source": [
    "from PIL import Image\n",
    "import cv2\n",
    "import numpy as np\n",
    "import os               #for operations on path and file name\n",
    "\n",
    "dbpath=r'C:\\Users\\lonewolf\\hello_ds\\.vscode\\faceRecProject\\dataset'\n",
    "recognizer=cv2.face.LBPHFaceRecognizer_create() #localbinarypatternhistograms\n",
    "detector=cv2.CascadeClassifier(r'C:\\Users\\lonewolf\\hello_ds\\.vscode\\haarcascade_frontalface_default.xml')\n",
    "def getimageslabels(dbpath):\n",
    "    imagepaths=[os.path.join(dbpath,f) for f in os.listdir(dbpath)]\n",
    "    facesamples=[]\n",
    "    ids=[]\n",
    "    for imagepath in imagepaths:\n",
    "        pilimg=Image.open(imagepath).convert('L')\n",
    "        imgnumpy=np.array(pilimg,'uint8')\n",
    "        id=int(os.path.split(imagepath)[-1].split(\".\")[1])\n",
    "        facetype=detector.detectMultiScale(imgnumpy)\n",
    "        for (x,y,w,h) in facetype:\n",
    "            facesamples.append(imgnumpy[y:y+h,x:x+w])\n",
    "            ids.append(id)\n",
    "    return facesamples,ids\n",
    "\n",
    "print('training faces,wait')\n",
    "facetype,ids=getimageslabels(dbpath)\n",
    "recognizer.train(facetype,np.array(ids))\n",
    "\n",
    "recognizer.write(r'C:\\Users\\lonewolf\\hello_ds\\.vscode\\faceRecProject\\trainer\\trainer.yml')\n",
    "\n",
    "print('{0} faces trained'.format(len(np.unique(ids))))"
   ]
  }
 ]
}